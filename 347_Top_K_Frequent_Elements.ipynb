{
  "nbformat": 4,
  "nbformat_minor": 0,
  "metadata": {
    "colab": {
      "name": "347. Top K Frequent Elements.ipynb",
      "provenance": [],
      "collapsed_sections": [],
      "authorship_tag": "ABX9TyMFaQvX6T9lVmRsVqlYNXlN",
      "include_colab_link": true
    },
    "kernelspec": {
      "name": "python3",
      "display_name": "Python 3"
    },
    "language_info": {
      "name": "python"
    }
  },
  "cells": [
    {
      "cell_type": "markdown",
      "metadata": {
        "id": "view-in-github",
        "colab_type": "text"
      },
      "source": [
        "<a href=\"https://colab.research.google.com/github/yashirmehmood/LeetcodeProblems/blob/main/347_Top_K_Frequent_Elements.ipynb\" target=\"_parent\"><img src=\"https://colab.research.google.com/assets/colab-badge.svg\" alt=\"Open In Colab\"/></a>"
      ]
    },
    {
      "cell_type": "code",
      "metadata": {
        "colab": {
          "base_uri": "https://localhost:8080/"
        },
        "id": "1nHzbKADFFXy",
        "outputId": "372fe167-e6c8-4602-b965-2fb49dcc02b1"
      },
      "source": [
        "#================ 347. Top K Frequent Elements ================\n",
        "import heapq\n",
        "\n",
        "def topKFrequent(nums, k):\n",
        "  heap = []\n",
        "  wordDict = {}\n",
        "  for word in nums:\n",
        "      if word in wordDict:\n",
        "          wordDict[word] += 1\n",
        "      else:\n",
        "          wordDict[word] = 1\n",
        "  for key,value in wordDict.items():\n",
        "      heapq.heappush(heap,(-value,key))\n",
        "  result = []\n",
        "  for i in range(k):\n",
        "      result.append(heapq.heappop(heap)[1])\n",
        "  return result\n",
        "\n",
        "Input= [1,1,1,2,2,3]\n",
        "k = 2\n",
        "print(topKFrequent(Input,k))"
      ],
      "execution_count": 7,
      "outputs": [
        {
          "output_type": "stream",
          "text": [
            "[1, 2]\n"
          ],
          "name": "stdout"
        }
      ]
    }
  ]
}