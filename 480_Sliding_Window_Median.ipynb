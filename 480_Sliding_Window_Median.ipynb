{
  "nbformat": 4,
  "nbformat_minor": 0,
  "metadata": {
    "colab": {
      "name": "480. Sliding Window Median.ipynb",
      "provenance": [],
      "collapsed_sections": [],
      "authorship_tag": "ABX9TyM55bQaq0yubCEXNq5zZn66",
      "include_colab_link": true
    },
    "kernelspec": {
      "name": "python3",
      "display_name": "Python 3"
    },
    "language_info": {
      "name": "python"
    }
  },
  "cells": [
    {
      "cell_type": "markdown",
      "metadata": {
        "id": "view-in-github",
        "colab_type": "text"
      },
      "source": [
        "<a href=\"https://colab.research.google.com/github/yashirmehmood/LeetcodeProblemsHeap/blob/main/480_Sliding_Window_Median.ipynb\" target=\"_parent\"><img src=\"https://colab.research.google.com/assets/colab-badge.svg\" alt=\"Open In Colab\"/></a>"
      ]
    },
    {
      "cell_type": "code",
      "metadata": {
        "colab": {
          "base_uri": "https://localhost:8080/"
        },
        "id": "1nHzbKADFFXy",
        "outputId": "732dc909-1646-4e60-e469-c0c06ee4b64b"
      },
      "source": [
        "#================ 480. Sliding Window Median ================\n",
        "\n",
        "import heapq\n",
        "\n",
        "class MedianFinder(object):\n",
        "    \n",
        "    def __init__(self):\n",
        "        self.max_heap = []\n",
        "        self.min_heap = []\n",
        "        \n",
        "    def balance(self):\n",
        "\n",
        "        if len(self.max_heap)>len(self.min_heap)+1:\n",
        "            heapq.heappush(self.min_heap, -heapq.heappop(self.max_heap))\n",
        "        elif len(self.min_heap)>len(self.max_heap):\n",
        "            heapq.heappush(self.max_heap, -heapq.heappop(self.min_heap))\n",
        "\n",
        "    def addNum(self, num):\n",
        "\n",
        "        if not self.max_heap or -self.max_heap[0]>=num:\n",
        "            heapq.heappush(self.max_heap, -num)\n",
        "        else:\n",
        "            heapq.heappush(self.min_heap, num)\n",
        "        self.balance()\n",
        "        \n",
        "    def removeNum(self, num):\n",
        "        if num<=-self.max_heap[0]:\n",
        "            self.max_heap.remove(-num)\n",
        "            heapq.heapify(self.max_heap)\n",
        "        else:\n",
        "            self.min_heap.remove(num)\n",
        "            heapq.heapify(self.min_heap)\n",
        "        self.balance()\n",
        "\n",
        "    def findMedian(self):\n",
        "\n",
        "        max_len= len(self.max_heap)\n",
        "        min_len= len(self.min_heap)\n",
        "        \n",
        "        if max_len==min_len:\n",
        "            return (-self.max_heap[0]+self.min_heap[0])/2.0\n",
        "        else:\n",
        "            return -self.max_heap[0]\n",
        "    \n",
        "    def medianSlidingWindow(self, nums, k):\n",
        "    \n",
        "        start, end = 0, 0\n",
        "        result = []\n",
        "        \n",
        "        while end<len(nums):\n",
        "            self.addNum(nums[end])\n",
        "            if end>=k-1:\n",
        "                result.append(self.findMedian())\n",
        "                self.removeNum(nums[start])\n",
        "                start += 1\n",
        "            end += 1\n",
        "            \n",
        "        return result\n",
        "\n",
        "nums = [1,3,-1,-3,5,3,6,7]\n",
        "k=3\n",
        "median_finder = MedianFinder()\n",
        "print(median_finder.medianSlidingWindow(nums,k))"
      ],
      "execution_count": 11,
      "outputs": [
        {
          "output_type": "stream",
          "text": [
            "[1, -1, -1, 3, 5, 6]\n"
          ],
          "name": "stdout"
        }
      ]
    }
  ]
}