{
  "nbformat": 4,
  "nbformat_minor": 0,
  "metadata": {
    "colab": {
      "name": "1642. Furthest Building You Can Reach.ipynb",
      "provenance": [],
      "collapsed_sections": [],
      "authorship_tag": "ABX9TyMZKc/34aCESnu5uJIy9sJ+",
      "include_colab_link": true
    },
    "kernelspec": {
      "name": "python3",
      "display_name": "Python 3"
    },
    "language_info": {
      "name": "python"
    }
  },
  "cells": [
    {
      "cell_type": "markdown",
      "metadata": {
        "id": "view-in-github",
        "colab_type": "text"
      },
      "source": [
        "<a href=\"https://colab.research.google.com/github/yashirmehmood/LeetcodeProblemsHeap/blob/main/1642_Furthest_Building_You_Can_Reach.ipynb\" target=\"_parent\"><img src=\"https://colab.research.google.com/assets/colab-badge.svg\" alt=\"Open In Colab\"/></a>"
      ]
    },
    {
      "cell_type": "code",
      "metadata": {
        "colab": {
          "base_uri": "https://localhost:8080/"
        },
        "id": "1nHzbKADFFXy",
        "outputId": "54f93b56-64c8-451d-885f-3a8848b088e5"
      },
      "source": [
        "#================ 1642. Furthest Building You Can Reach ================\n",
        "\n",
        "import heapq\n",
        "\n",
        "def furthestBuilding(heights, bricks, ladders):\n",
        "      totalbricksUsed = 0\n",
        "      heap = []\n",
        "      \n",
        "      for i in range(1, len(heights)):\n",
        "          diff = heights[i] - heights[i-1]\n",
        "          if diff > 0:\n",
        "              heapq.heappush(heap, -diff)\n",
        "              totalbricksUsed += diff\n",
        "          if totalbricksUsed > bricks:\n",
        "              if ladders > 0:\n",
        "                  brick_save = heapq.heappop(heap)\n",
        "                  totalbricksUsed += brick_save\n",
        "                  ladders -= 1\n",
        "              else:\n",
        "                  return i-1\n",
        "      \n",
        "      return len(heights)-1\n",
        "\n",
        "heights = [4,12,2,7,3,18,20,3,19]\n",
        "bricks = 10\n",
        "ladders = 2\n",
        "print(furthestBuilding(heights, bricks, ladders))"
      ],
      "execution_count": 9,
      "outputs": [
        {
          "output_type": "stream",
          "text": [
            "7\n"
          ],
          "name": "stdout"
        }
      ]
    }
  ]
}