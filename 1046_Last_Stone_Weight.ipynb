{
  "nbformat": 4,
  "nbformat_minor": 0,
  "metadata": {
    "colab": {
      "name": "1046. Last Stone Weight.ipynb",
      "provenance": [],
      "collapsed_sections": [],
      "authorship_tag": "ABX9TyNcOEBexIoN/Uej+9tv5Ocr",
      "include_colab_link": true
    },
    "kernelspec": {
      "name": "python3",
      "display_name": "Python 3"
    },
    "language_info": {
      "name": "python"
    }
  },
  "cells": [
    {
      "cell_type": "markdown",
      "metadata": {
        "id": "view-in-github",
        "colab_type": "text"
      },
      "source": [
        "<a href=\"https://colab.research.google.com/github/yashirmehmood/LeetcodeProblemsHeap/blob/main/1046_Last_Stone_Weight.ipynb\" target=\"_parent\"><img src=\"https://colab.research.google.com/assets/colab-badge.svg\" alt=\"Open In Colab\"/></a>"
      ]
    },
    {
      "cell_type": "code",
      "metadata": {
        "colab": {
          "base_uri": "https://localhost:8080/"
        },
        "id": "1nHzbKADFFXy",
        "outputId": "b850cc11-bc84-43e7-9db4-4559827d6fe8"
      },
      "source": [
        "# Max Heap\n",
        "class Heap:\n",
        "  def __init__(self):\n",
        "    self.heap = []\n",
        "    self.currentPosition = -1\n",
        "\n",
        "  def insert(self, item):\n",
        "    self.currentPosition = self.currentPosition + 1\n",
        "    self.heap.append(item)\n",
        "    self.heapifyUp(self.currentPosition)\n",
        "  def heapifyUp(self, index):\n",
        "    parentIndex = (index-1) // 2\n",
        "    while parentIndex >= 0 and self.heap[parentIndex] < self.heap[index]:\n",
        "      self.heap[index],self.heap[parentIndex]=self.heap[parentIndex],self.heap[index]\n",
        "      index=parentIndex\n",
        "      parentIndex = (index-1) // 2\n",
        "\n",
        "  def heapsort(self):\n",
        "      for i in range(0,self.currentPosition+1):\n",
        "          self.heap[0],self.heap[self.currentPosition-i]=self.heap[self.currentPosition-i],self.heap[0]\n",
        "          self.heapifyDown(0,self.currentPosition-i-1)\n",
        "\n",
        "  def heapifyDown(self, index, upto):\n",
        "      while index <= upto:\n",
        "          leftChild = 2*index+1\n",
        "          rightChild = 2*index+2\n",
        "          if leftChild < upto:\n",
        "              childToSwap = None\n",
        "              if rightChild > upto:\n",
        "                  childToSwap = leftChild\n",
        "              else:\n",
        "                  if self.heap[leftChild] > self.heap[rightChild]:\n",
        "                      childToSwap = leftChild\n",
        "                  else:\n",
        "                      childToSwap = rightChild\n",
        "              if self.heap[index] < self.heap[childToSwap]:\n",
        "                  self.heap[index],self.heap[childToSwap]=self.heap[childToSwap],self.heap[index]\n",
        "              else:\n",
        "                  break\n",
        "              index = childToSwap\n",
        "          else:\n",
        "              break\n",
        "  def Pop_Heap(self):\n",
        "          self.heap[0],self.heap[self.currentPosition]=self.heap[self.currentPosition],self.heap[0]\n",
        "          self.heap.pop(-1)\n",
        "          self.currentPosition-=1\n",
        "          self.heapifyDown(0,self.currentPosition)\n",
        "  \n",
        "  def lastStoneWeight(self):\n",
        "      first=0\n",
        "      second=0\n",
        "      while len(self.heap) > 1:\n",
        "        first = self.heap[0]\n",
        "        self.Pop_Heap()\n",
        "        second =  self.heap[0]\n",
        "        self.Pop_Heap()\n",
        "        if first-second > 0:\n",
        "          self.insert(first-second)\n",
        "      if len(self.heap)!=0:\n",
        "        return self.heap[0]\n",
        "      return 0\n",
        "\n",
        "#================ 1046. Last Stone Weight ================\n",
        "heap = Heap()\n",
        "Stones= [2,7,4,1,8,1]\n",
        "for i in Stones:\n",
        "  heap.insert(i)\n",
        "print(heap.heap)\n",
        "print(heap.lastStoneWeight())"
      ],
      "execution_count": 14,
      "outputs": [
        {
          "output_type": "stream",
          "text": [
            "[8, 7, 4, 1, 2, 1]\n",
            "1\n"
          ],
          "name": "stdout"
        }
      ]
    }
  ]
}