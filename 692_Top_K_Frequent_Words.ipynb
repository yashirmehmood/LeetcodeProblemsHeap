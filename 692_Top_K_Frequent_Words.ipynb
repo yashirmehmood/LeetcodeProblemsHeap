{
  "nbformat": 4,
  "nbformat_minor": 0,
  "metadata": {
    "colab": {
      "name": "692. Top K Frequent Words.ipynb",
      "provenance": [],
      "collapsed_sections": [],
      "authorship_tag": "ABX9TyNKeuXEAOIAj+i3QhGOZGwn",
      "include_colab_link": true
    },
    "kernelspec": {
      "name": "python3",
      "display_name": "Python 3"
    },
    "language_info": {
      "name": "python"
    }
  },
  "cells": [
    {
      "cell_type": "markdown",
      "metadata": {
        "id": "view-in-github",
        "colab_type": "text"
      },
      "source": [
        "<a href=\"https://colab.research.google.com/github/yashirmehmood/LeetcodeProblems/blob/main/692_Top_K_Frequent_Words.ipynb\" target=\"_parent\"><img src=\"https://colab.research.google.com/assets/colab-badge.svg\" alt=\"Open In Colab\"/></a>"
      ]
    },
    {
      "cell_type": "code",
      "metadata": {
        "colab": {
          "base_uri": "https://localhost:8080/"
        },
        "id": "1nHzbKADFFXy",
        "outputId": "87055b25-e139-46b2-bd94-c19bc63b7397"
      },
      "source": [
        "import heapq\n",
        "#================ 692. Top K Frequent Words ================\n",
        "def topKFrequent(words, k):\n",
        "  wordDict = {}\n",
        "  for word in words:\n",
        "      if word in wordDict:\n",
        "          wordDict[word] += 1\n",
        "      else:\n",
        "          wordDict[word] = 1\n",
        "  heap = []\n",
        "  for key,value in wordDict.items():\n",
        "      heapq.heappush(heap,(-value,key))\n",
        "  result = []\n",
        "  for i in range(k):\n",
        "      result.append(heapq.heappop(heap)[1])\n",
        "  return result\n",
        "\n",
        "words_=[\"the\", \"day\", \"is\", \"sunny\", \"the\", \"the\", \"the\", \"sunny\", \"is\", \"is\"]\n",
        "k = 3\n",
        "print(topKFrequent(words_,k))"
      ],
      "execution_count": 6,
      "outputs": [
        {
          "output_type": "stream",
          "text": [
            "['the', 'is', 'sunny']\n"
          ],
          "name": "stdout"
        }
      ]
    }
  ]
}