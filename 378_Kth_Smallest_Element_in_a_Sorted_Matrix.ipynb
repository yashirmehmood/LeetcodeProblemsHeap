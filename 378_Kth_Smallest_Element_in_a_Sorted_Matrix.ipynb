{
  "nbformat": 4,
  "nbformat_minor": 0,
  "metadata": {
    "colab": {
      "name": "378. Kth Smallest Element in a Sorted Matrix.ipynb",
      "provenance": [],
      "collapsed_sections": [],
      "authorship_tag": "ABX9TyOnbBi1X+Y14jlZs9mWs1Ex",
      "include_colab_link": true
    },
    "kernelspec": {
      "name": "python3",
      "display_name": "Python 3"
    },
    "language_info": {
      "name": "python"
    }
  },
  "cells": [
    {
      "cell_type": "markdown",
      "metadata": {
        "id": "view-in-github",
        "colab_type": "text"
      },
      "source": [
        "<a href=\"https://colab.research.google.com/github/yashirmehmood/LeetcodeProblems/blob/main/378_Kth_Smallest_Element_in_a_Sorted_Matrix.ipynb\" target=\"_parent\"><img src=\"https://colab.research.google.com/assets/colab-badge.svg\" alt=\"Open In Colab\"/></a>"
      ]
    },
    {
      "cell_type": "code",
      "metadata": {
        "colab": {
          "base_uri": "https://localhost:8080/"
        },
        "id": "xkz9hRniFQQk",
        "outputId": "07c17a0c-2016-4346-84ef-404b96f5551d"
      },
      "source": [
        "class Node:\n",
        "  def __init__(self,sqrt_,point):\n",
        "    self.sqroot=sqrt_\n",
        "    self.point=point\n",
        "    \n",
        "class Heap:\n",
        "  def __init__(self):\n",
        "    self.heap = []\n",
        "    self.currentPosition = -1\n",
        "\n",
        "  def insert(self, item,pnt):\n",
        "    self.currentPosition = self.currentPosition + 1\n",
        "    self.heap.append([item,pnt])\n",
        "    self.heapifyUp(self.currentPosition)\n",
        "  def heapifyUp(self, index):\n",
        "    parentIndex = (index-1) // 2\n",
        "    while parentIndex >= 0 and self.heap[parentIndex][0] < self.heap[index][0]:\n",
        "      self.heap[index],self.heap[parentIndex]=self.heap[parentIndex],self.heap[index]\n",
        "      index=parentIndex\n",
        "      parentIndex = (index-1) // 2\n",
        "  swapping=True\n",
        "  def heapsort(self):\n",
        "      for i in range(0,self.currentPosition+1):\n",
        "        if self.swapping:\n",
        "          self.heap[0],self.heap[self.currentPosition-i]=self.heap[self.currentPosition-i],self.heap[0]\n",
        "        self.heapifyDown(0,self.currentPosition-i-1)\n",
        "\n",
        "  def heapifyDown(self, index, upto):\n",
        "    self.swapping=False\n",
        "    while index <= upto:\n",
        "        leftChild = 2*index+1\n",
        "        rightChild = 2*index+2\n",
        "        if leftChild < upto:\n",
        "            childToSwap = None\n",
        "            if rightChild > upto:\n",
        "                childToSwap = leftChild\n",
        "                self.swapping=True\n",
        "            else:\n",
        "              if self.heap[leftChild][0] > self.heap[rightChild][0]:\n",
        "                childToSwap = leftChild\n",
        "                self.swapping=True\n",
        "              elif self.heap[leftChild][0] < self.heap[rightChild][0]:\n",
        "                childToSwap = rightChild\n",
        "                self.swapping=True\n",
        "              else:\n",
        "                self.swapping=False\n",
        "\n",
        "            if childToSwap!=None and self.heap[index][0] < self.heap[childToSwap][0]:\n",
        "                self.heap[index],self.heap[childToSwap]=self.heap[childToSwap],self.heap[index]\n",
        "            else:\n",
        "                break\n",
        "            index = childToSwap\n",
        "        else:\n",
        "            break\n",
        "\n",
        "heap = Heap()\n",
        "points = [[1,3],[1,1],[-2,2],[2,2],[3,0],[-3,-3]]\n",
        "K = 3\n",
        "for pnt in points:\n",
        "  x=pnt[0]\n",
        "  y=pnt[1]\n",
        "  val=(x*x+y*y)\n",
        "  heap.insert(val,pnt)\n",
        "print(\"Before Sorting=\",heap.heap)\n",
        "heap.heapsort()\n",
        "print(\"After Sorting=\",heap.heap)\n",
        "result=[]\n",
        "for index in range(0,K):\n",
        "  val=heap.heap[index][1]\n",
        "  result.append(val)\n",
        "print(result)"
      ],
      "execution_count": 2,
      "outputs": [
        {
          "output_type": "stream",
          "text": [
            "Before Sorting= [[18, [-3, -3]], [9, [3, 0]], [10, [1, 3]], [2, [1, 1]], [8, [2, 2]], [8, [-2, 2]]]\n",
            "After Sorting= [[2, [1, 1]], [8, [2, 2]], [8, [-2, 2]], [9, [3, 0]], [10, [1, 3]], [18, [-3, -3]]]\n",
            "[[1, 1], [2, 2], [-2, 2]]\n"
          ],
          "name": "stdout"
        }
      ]
    },
    {
      "cell_type": "code",
      "metadata": {
        "colab": {
          "base_uri": "https://localhost:8080/"
        },
        "id": "1nHzbKADFFXy",
        "outputId": "3252e308-d290-460d-e0d5-3c0b5f10693b"
      },
      "source": [
        "import heapq\n",
        "#================ 378. Kth Smallest Element in a Sorted Matrix ================\n",
        "def kthSmallest(matrix, k):\n",
        "    maxHeap = []\n",
        "    for x in matrix:\n",
        "        for y in x:\n",
        "            if len(maxHeap)<k:\n",
        "                heapq.heappush(maxHeap, -y)\n",
        "            else:\n",
        "                heapq.heappushpop(maxHeap, -y)\n",
        "    return -maxHeap[0]\n",
        "# def kthSmallest2(matrix, k):\n",
        "#   minHeap = []\n",
        "#   for x in matrix:\n",
        "#     for y in x:\n",
        "#       heapq.heappush(minHeap, y)\n",
        "#   index = 0\n",
        "#   print(minHeap)\n",
        "#   while index<k-1:\n",
        "#     heapq.heappop(minHeap)\n",
        "#     index+=1\n",
        "#   return minHeap[0]\n",
        "  \n",
        "matrix =[[10, 20, 30, 40], \n",
        "[15, 25, 35, 45], \n",
        "[25, 29, 37, 48], \n",
        "[32, 33, 39, 50]]\n",
        "elem=7\n",
        "print(elem,\"th smallest element is\",kthSmallest(matrix,elem))"
      ],
      "execution_count": 1,
      "outputs": [
        {
          "output_type": "stream",
          "text": [
            "7 th smallest element is 30\n"
          ],
          "name": "stdout"
        }
      ]
    }
  ]
}