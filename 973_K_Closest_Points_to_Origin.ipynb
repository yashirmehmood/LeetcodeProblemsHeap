{
  "nbformat": 4,
  "nbformat_minor": 0,
  "metadata": {
    "colab": {
      "name": "973. K Closest Points to Origin.ipynb",
      "provenance": [],
      "collapsed_sections": [],
      "authorship_tag": "ABX9TyMhz9SZpKCSiwfM2IQU5FAh",
      "include_colab_link": true
    },
    "kernelspec": {
      "name": "python3",
      "display_name": "Python 3"
    },
    "language_info": {
      "name": "python"
    }
  },
  "cells": [
    {
      "cell_type": "markdown",
      "metadata": {
        "id": "view-in-github",
        "colab_type": "text"
      },
      "source": [
        "<a href=\"https://colab.research.google.com/github/yashirmehmood/LeetcodeProblems/blob/main/973_K_Closest_Points_to_Origin.ipynb\" target=\"_parent\"><img src=\"https://colab.research.google.com/assets/colab-badge.svg\" alt=\"Open In Colab\"/></a>"
      ]
    },
    {
      "cell_type": "code",
      "metadata": {
        "colab": {
          "base_uri": "https://localhost:8080/"
        },
        "id": "xkz9hRniFQQk",
        "outputId": "07c17a0c-2016-4346-84ef-404b96f5551d"
      },
      "source": [
        "class Node:\n",
        "  def __init__(self,sqrt_,point):\n",
        "    self.sqroot=sqrt_\n",
        "    self.point=point\n",
        "    \n",
        "class Heap:\n",
        "  def __init__(self):\n",
        "    self.heap = []\n",
        "    self.currentPosition = -1\n",
        "\n",
        "  def insert(self, item,pnt):\n",
        "    self.currentPosition = self.currentPosition + 1\n",
        "    self.heap.append([item,pnt])\n",
        "    self.heapifyUp(self.currentPosition)\n",
        "  def heapifyUp(self, index):\n",
        "    parentIndex = (index-1) // 2\n",
        "    while parentIndex >= 0 and self.heap[parentIndex][0] < self.heap[index][0]:\n",
        "      self.heap[index],self.heap[parentIndex]=self.heap[parentIndex],self.heap[index]\n",
        "      index=parentIndex\n",
        "      parentIndex = (index-1) // 2\n",
        "  swapping=True\n",
        "  def heapsort(self):\n",
        "      for i in range(0,self.currentPosition+1):\n",
        "        if self.swapping:\n",
        "          self.heap[0],self.heap[self.currentPosition-i]=self.heap[self.currentPosition-i],self.heap[0]\n",
        "        self.heapifyDown(0,self.currentPosition-i-1)\n",
        "\n",
        "  def heapifyDown(self, index, upto):\n",
        "    self.swapping=False\n",
        "    while index <= upto:\n",
        "        leftChild = 2*index+1\n",
        "        rightChild = 2*index+2\n",
        "        if leftChild < upto:\n",
        "            childToSwap = None\n",
        "            if rightChild > upto:\n",
        "                childToSwap = leftChild\n",
        "                self.swapping=True\n",
        "            else:\n",
        "              if self.heap[leftChild][0] > self.heap[rightChild][0]:\n",
        "                childToSwap = leftChild\n",
        "                self.swapping=True\n",
        "              elif self.heap[leftChild][0] < self.heap[rightChild][0]:\n",
        "                childToSwap = rightChild\n",
        "                self.swapping=True\n",
        "              else:\n",
        "                self.swapping=False\n",
        "\n",
        "            if childToSwap!=None and self.heap[index][0] < self.heap[childToSwap][0]:\n",
        "                self.heap[index],self.heap[childToSwap]=self.heap[childToSwap],self.heap[index]\n",
        "            else:\n",
        "                break\n",
        "            index = childToSwap\n",
        "        else:\n",
        "            break\n",
        "\n",
        "heap = Heap()\n",
        "points = [[1,3],[1,1],[-2,2],[2,2],[3,0],[-3,-3]]\n",
        "K = 3\n",
        "for pnt in points:\n",
        "  x=pnt[0]\n",
        "  y=pnt[1]\n",
        "  val=(x*x+y*y)\n",
        "  heap.insert(val,pnt)\n",
        "print(\"Before Sorting=\",heap.heap)\n",
        "heap.heapsort()\n",
        "print(\"After Sorting=\",heap.heap)\n",
        "result=[]\n",
        "for index in range(0,K):\n",
        "  val=heap.heap[index][1]\n",
        "  result.append(val)\n",
        "print(result)"
      ],
      "execution_count": 2,
      "outputs": [
        {
          "output_type": "stream",
          "text": [
            "Before Sorting= [[18, [-3, -3]], [9, [3, 0]], [10, [1, 3]], [2, [1, 1]], [8, [2, 2]], [8, [-2, 2]]]\n",
            "After Sorting= [[2, [1, 1]], [8, [2, 2]], [8, [-2, 2]], [9, [3, 0]], [10, [1, 3]], [18, [-3, -3]]]\n",
            "[[1, 1], [2, 2], [-2, 2]]\n"
          ],
          "name": "stdout"
        }
      ]
    },
    {
      "cell_type": "code",
      "metadata": {
        "colab": {
          "base_uri": "https://localhost:8080/"
        },
        "id": "1nHzbKADFFXy",
        "outputId": "4ed57f76-0016-4a26-b6bd-9e0d753b14d5"
      },
      "source": [
        "#================ 973. K Closest Points to Origin ================\n",
        "import heapq\n",
        "\n",
        "def kClosest(points, K):\n",
        "    heap = []\n",
        "    for x,y in points:\n",
        "        if len(heap)<K:\n",
        "            heapq.heappush(heap,[-(x*x+y*y),[x,y]])\n",
        "        else:\n",
        "            heapq.heappushpop(heap,[-(x*x+y*y),[x,y]])\n",
        "    #return [pair for value, pair in heap]\n",
        "    result=[]\n",
        "    for val ,pair in heap:\n",
        "        result.append(pair)\n",
        "    return result\n",
        "\n",
        "#================ Another Method=====================\n",
        "# def kClosest(points, K):\n",
        "#     heap = []\n",
        "#     for x,y in points:\n",
        "#       heapq.heappush(heap,[(x*x+y*y),[x,y]])\n",
        "#     result = []\n",
        "#     for i in range(K):\n",
        "#       result.append(heapq.heappop(heap)[1])\n",
        "#     return result\n",
        "#=====================================================\n",
        "\n",
        "# def pClosest(points, K):\n",
        "#   points.sort(key = lambda K: K[0]**2 + K[1]**2)\n",
        "#   return points[:K]\n",
        "# points = [[3, 3], [5, -1], [-2, 4]]\n",
        "# K = 2\n",
        "# print(pClosest(points, K))\n",
        "#====================================================\n",
        "points = [[1,3],[1,1],[-2,2],[2,2],[3,0],[-3,-3]]\n",
        "K = 3\n",
        "print(kClosest(points,K))"
      ],
      "execution_count": 3,
      "outputs": [
        {
          "output_type": "stream",
          "text": [
            "[[-2, 2], [1, 1], [2, 2]]\n"
          ],
          "name": "stdout"
        }
      ]
    }
  ]
}