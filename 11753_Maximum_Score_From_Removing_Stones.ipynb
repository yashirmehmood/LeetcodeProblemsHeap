{
  "nbformat": 4,
  "nbformat_minor": 0,
  "metadata": {
    "colab": {
      "name": "11753. Maximum Score From Removing Stones.ipynb",
      "provenance": [],
      "collapsed_sections": [],
      "authorship_tag": "ABX9TyN1+nMYMNeZ2BsrUu/mK8Vn",
      "include_colab_link": true
    },
    "kernelspec": {
      "name": "python3",
      "display_name": "Python 3"
    },
    "language_info": {
      "name": "python"
    }
  },
  "cells": [
    {
      "cell_type": "markdown",
      "metadata": {
        "id": "view-in-github",
        "colab_type": "text"
      },
      "source": [
        "<a href=\"https://colab.research.google.com/github/yashirmehmood/LeetcodeProblemsHeap/blob/main/11753_Maximum_Score_From_Removing_Stones.ipynb\" target=\"_parent\"><img src=\"https://colab.research.google.com/assets/colab-badge.svg\" alt=\"Open In Colab\"/></a>"
      ]
    },
    {
      "cell_type": "code",
      "metadata": {
        "colab": {
          "base_uri": "https://localhost:8080/"
        },
        "id": "1nHzbKADFFXy",
        "outputId": "10a1b295-d593-4f2a-ad2c-95b1f5713300"
      },
      "source": [
        "#================ 1753. Maximum Score From Removing Stones ================\n",
        "\n",
        "import heapq\n",
        "\n",
        "def maximumScore(a, b, c):\n",
        "      heap = [-a,-b,-c]\n",
        "      heapq.heapify(heap)\n",
        "      result = 0\n",
        "      while len(heap) > 1:\n",
        "          pile1 = heapq.heappop(heap)\n",
        "          pile2 = heapq.heappop(heap)\n",
        "          if pile1+1 != 0:\n",
        "              heapq.heappush(heap, pile1+1)\n",
        "          if pile2+1 != 0:\n",
        "              heapq.heappush(heap, pile2+1)\n",
        "          result += 1\n",
        "      return result\n",
        "\n",
        "a = 2\n",
        "b = 4\n",
        "c = 6\n",
        "print(maximumScore(a,b,c))"
      ],
      "execution_count": 10,
      "outputs": [
        {
          "output_type": "stream",
          "text": [
            "6\n"
          ],
          "name": "stdout"
        }
      ]
    }
  ]
}