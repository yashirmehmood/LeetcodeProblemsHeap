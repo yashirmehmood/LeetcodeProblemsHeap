{
  "nbformat": 4,
  "nbformat_minor": 0,
  "metadata": {
    "colab": {
      "name": "Additive Sequence.ipynb",
      "provenance": [],
      "collapsed_sections": [],
      "authorship_tag": "ABX9TyOwMakDeHFd7OrCGQQ2e7GT",
      "include_colab_link": true
    },
    "kernelspec": {
      "name": "python3",
      "display_name": "Python 3"
    },
    "language_info": {
      "name": "python"
    }
  },
  "cells": [
    {
      "cell_type": "markdown",
      "metadata": {
        "id": "view-in-github",
        "colab_type": "text"
      },
      "source": [
        "<a href=\"https://colab.research.google.com/github/yashirmehmood/LeetcodeProblems/blob/main/Additive_Sequence.ipynb\" target=\"_parent\"><img src=\"https://colab.research.google.com/assets/colab-badge.svg\" alt=\"Open In Colab\"/></a>"
      ]
    },
    {
      "cell_type": "code",
      "metadata": {
        "id": "0rrMXJomK3KJ"
      },
      "source": [
        "# Write a Python program to find whether it contains an additive sequence or not.\n",
        "# The additive sequence is a sequence of numbers where the sum of the first two numbers is equal to the third one.\n",
        "# Note: Numbers in the additive sequence cannot have leading zeros.\n",
        "class Solution(object):\n",
        "    def func_num(self, n):\n",
        "        length = len(n)\n",
        "        for i in range(1, int(length/2+1)):\n",
        "            for j in range(1, int((length-i)/2 + 1)):\n",
        "                a = n[:i]\n",
        "                b = n[i:i+j]\n",
        "                c = n[i+j:]\n",
        "                if self.istrue(a, b, c):\n",
        "                    return True\n",
        "        return False\n",
        "\n",
        "    def istrue(self, a, b, c):\n",
        "        if ((len(a) > 1 and a[0] == \"0\") or\n",
        "                (len(b) > 1 and b[0] == \"0\")):\n",
        "            return False\n",
        "        sum = str(int(a) + int(b))\n",
        "        if sum == c:\n",
        "            return True\n",
        "        elif c.startswith(sum):\n",
        "            return self.istrue(b, sum, c[len(sum):])\n",
        "        else:\n",
        "            return False\n",
        "\n",
        "if __name__ == \"__main__\":\n",
        "    # give input\n",
        "    print(Solution().func_num('1671320')) # here we have sequence 1,6,7,13,20\n",
        "    print(Solution().func_num('5115253')) # here we have sequence 51,1,52,53\n",
        "    print(Solution().func_num('675654665456')) # here we have sequence 6,7,5,6,5,...."
      ],
      "execution_count": null,
      "outputs": []
    }
  ]
}