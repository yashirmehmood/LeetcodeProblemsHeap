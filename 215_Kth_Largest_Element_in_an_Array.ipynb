{
  "nbformat": 4,
  "nbformat_minor": 0,
  "metadata": {
    "colab": {
      "name": "215. Kth Largest Element in an Array.ipynb",
      "provenance": [],
      "collapsed_sections": [],
      "authorship_tag": "ABX9TyP+Jf7Jz3hVskp3OyKa0m+p",
      "include_colab_link": true
    },
    "kernelspec": {
      "name": "python3",
      "display_name": "Python 3"
    },
    "language_info": {
      "name": "python"
    }
  },
  "cells": [
    {
      "cell_type": "markdown",
      "metadata": {
        "id": "view-in-github",
        "colab_type": "text"
      },
      "source": [
        "<a href=\"https://colab.research.google.com/github/yashirmehmood/LeetcodeProblems/blob/main/215_Kth_Largest_Element_in_an_Array.ipynb\" target=\"_parent\"><img src=\"https://colab.research.google.com/assets/colab-badge.svg\" alt=\"Open In Colab\"/></a>"
      ]
    },
    {
      "cell_type": "code",
      "metadata": {
        "colab": {
          "base_uri": "https://localhost:8080/"
        },
        "id": "1nHzbKADFFXy",
        "outputId": "26a04b69-30b1-419b-d10a-4d8583d2dd8d"
      },
      "source": [
        "#================ 215. Kth Largest Element in an Array ================\n",
        "import heapq\n",
        "\n",
        "def findKthLargest(nums, k):\n",
        "  heap = []\n",
        "  for val in nums:\n",
        "      if len(heap)<k:\n",
        "          heapq.heappush(heap,val)\n",
        "      else:\n",
        "          heapq.heappushpop(heap,val)\n",
        "  return heap[0]\n",
        "\n",
        "Input= [3,2,3,1,2,4,5,5,6]\n",
        "k = 4\n",
        "print(findKthLargest(Input,k))"
      ],
      "execution_count": 5,
      "outputs": [
        {
          "output_type": "stream",
          "text": [
            "4\n"
          ],
          "name": "stdout"
        }
      ]
    }
  ]
}