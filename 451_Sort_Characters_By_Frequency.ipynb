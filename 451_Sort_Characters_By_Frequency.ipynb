{
  "nbformat": 4,
  "nbformat_minor": 0,
  "metadata": {
    "colab": {
      "name": "451. Sort Characters By Frequency.ipynb",
      "provenance": [],
      "collapsed_sections": [],
      "authorship_tag": "ABX9TyMlbhXo2m6aUHo1vX9WlCnx",
      "include_colab_link": true
    },
    "kernelspec": {
      "name": "python3",
      "display_name": "Python 3"
    },
    "language_info": {
      "name": "python"
    }
  },
  "cells": [
    {
      "cell_type": "markdown",
      "metadata": {
        "id": "view-in-github",
        "colab_type": "text"
      },
      "source": [
        "<a href=\"https://colab.research.google.com/github/yashirmehmood/LeetcodeProblemsHeap/blob/main/451_Sort_Characters_By_Frequency.ipynb\" target=\"_parent\"><img src=\"https://colab.research.google.com/assets/colab-badge.svg\" alt=\"Open In Colab\"/></a>"
      ]
    },
    {
      "cell_type": "code",
      "metadata": {
        "colab": {
          "base_uri": "https://localhost:8080/"
        },
        "id": "1nHzbKADFFXy",
        "outputId": "3db46e77-afef-4f1e-c241-12ffa5694b08"
      },
      "source": [
        "#================ 451. Sort Characters By Frequency ================\n",
        "\n",
        "import heapq\n",
        "def frequencySort(string):\n",
        "        if not string or len(string) == 0:\n",
        "            return string\n",
        "            \n",
        "        wordDict = {}\n",
        "        for word in string:\n",
        "            if word in wordDict:\n",
        "                wordDict[word] += 1\n",
        "            else:\n",
        "                wordDict[word] = 1\n",
        "\n",
        "        max_heap = []\n",
        "        for key, value in wordDict.items():\n",
        "            heapq.heappush(max_heap, (-value, key))\n",
        "\n",
        "        result = []\n",
        "        while len(max_heap) != 0:\n",
        "            value , key = heapq.heappop(max_heap)\n",
        "            result += [key] * -value\n",
        "        return \"\".join(result)\n",
        "\n",
        "Input=\"tree\"\n",
        "print(frequencySort(Input))"
      ],
      "execution_count": 13,
      "outputs": [
        {
          "output_type": "stream",
          "text": [
            "eert\n"
          ],
          "name": "stdout"
        }
      ]
    }
  ]
}